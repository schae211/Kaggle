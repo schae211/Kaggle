{
 "cells": [
  {
   "cell_type": "markdown",
   "metadata": {
    "pycharm": {
     "name": "#%% md\n"
    }
   },
   "source": [
    " ## EDA Titanic Data Set"
   ]
  },
  {
   "cell_type": "code",
   "execution_count": 2,
   "metadata": {},
   "outputs": [
    {
     "data": {
      "text/html": [
       "<div>\n",
       "<style scoped>\n",
       "    .dataframe tbody tr th:only-of-type {\n",
       "        vertical-align: middle;\n",
       "    }\n",
       "\n",
       "    .dataframe tbody tr th {\n",
       "        vertical-align: top;\n",
       "    }\n",
       "\n",
       "    .dataframe thead th {\n",
       "        text-align: right;\n",
       "    }\n",
       "</style>\n",
       "<table border=\"1\" class=\"dataframe\">\n",
       "  <thead>\n",
       "    <tr style=\"text-align: right;\">\n",
       "      <th></th>\n",
       "      <th>PassengerId</th>\n",
       "      <th>Survived</th>\n",
       "      <th>Pclass</th>\n",
       "      <th>Name</th>\n",
       "      <th>Sex</th>\n",
       "      <th>Age</th>\n",
       "      <th>SibSp</th>\n",
       "      <th>Parch</th>\n",
       "      <th>Ticket</th>\n",
       "      <th>Fare</th>\n",
       "      <th>Cabin</th>\n",
       "      <th>Embarked</th>\n",
       "      <th>EmbarkedOHE</th>\n",
       "      <th>Age_StdSc</th>\n",
       "      <th>Fare_StdSc</th>\n",
       "      <th>Pclass_Scale</th>\n",
       "      <th>Age_Class</th>\n",
       "      <th>SibSp_Class</th>\n",
       "      <th>Parch_Class</th>\n",
       "    </tr>\n",
       "  </thead>\n",
       "  <tbody>\n",
       "    <tr>\n",
       "      <th>0</th>\n",
       "      <td>1</td>\n",
       "      <td>0</td>\n",
       "      <td>3</td>\n",
       "      <td>Braund, Mr. Owen Harris</td>\n",
       "      <td>1</td>\n",
       "      <td>22.0</td>\n",
       "      <td>1</td>\n",
       "      <td>0</td>\n",
       "      <td>A/5 21171</td>\n",
       "      <td>7.2500</td>\n",
       "      <td>NaN</td>\n",
       "      <td>S</td>\n",
       "      <td>[0.0, 1.0, 0.0]</td>\n",
       "      <td>-0.592481</td>\n",
       "      <td>-0.502445</td>\n",
       "      <td>1.0</td>\n",
       "      <td>Adult</td>\n",
       "      <td>1</td>\n",
       "      <td>0</td>\n",
       "    </tr>\n",
       "    <tr>\n",
       "      <th>1</th>\n",
       "      <td>2</td>\n",
       "      <td>1</td>\n",
       "      <td>1</td>\n",
       "      <td>Cumings, Mrs. John Bradley (Florence Briggs Th...</td>\n",
       "      <td>0</td>\n",
       "      <td>38.0</td>\n",
       "      <td>1</td>\n",
       "      <td>0</td>\n",
       "      <td>PC 17599</td>\n",
       "      <td>71.2833</td>\n",
       "      <td>C85</td>\n",
       "      <td>C</td>\n",
       "      <td>[0.0, 0.0, 0.0]</td>\n",
       "      <td>0.638789</td>\n",
       "      <td>0.786845</td>\n",
       "      <td>0.0</td>\n",
       "      <td>Adult</td>\n",
       "      <td>1</td>\n",
       "      <td>0</td>\n",
       "    </tr>\n",
       "    <tr>\n",
       "      <th>2</th>\n",
       "      <td>3</td>\n",
       "      <td>1</td>\n",
       "      <td>3</td>\n",
       "      <td>Heikkinen, Miss. Laina</td>\n",
       "      <td>0</td>\n",
       "      <td>26.0</td>\n",
       "      <td>0</td>\n",
       "      <td>0</td>\n",
       "      <td>STON/O2. 3101282</td>\n",
       "      <td>7.9250</td>\n",
       "      <td>NaN</td>\n",
       "      <td>S</td>\n",
       "      <td>[0.0, 1.0, 0.0]</td>\n",
       "      <td>-0.284663</td>\n",
       "      <td>-0.488854</td>\n",
       "      <td>1.0</td>\n",
       "      <td>Adult</td>\n",
       "      <td>0</td>\n",
       "      <td>0</td>\n",
       "    </tr>\n",
       "    <tr>\n",
       "      <th>3</th>\n",
       "      <td>4</td>\n",
       "      <td>1</td>\n",
       "      <td>1</td>\n",
       "      <td>Futrelle, Mrs. Jacques Heath (Lily May Peel)</td>\n",
       "      <td>0</td>\n",
       "      <td>35.0</td>\n",
       "      <td>1</td>\n",
       "      <td>0</td>\n",
       "      <td>113803</td>\n",
       "      <td>53.1000</td>\n",
       "      <td>C123</td>\n",
       "      <td>S</td>\n",
       "      <td>[0.0, 1.0, 0.0]</td>\n",
       "      <td>0.407926</td>\n",
       "      <td>0.420730</td>\n",
       "      <td>0.0</td>\n",
       "      <td>Adult</td>\n",
       "      <td>1</td>\n",
       "      <td>0</td>\n",
       "    </tr>\n",
       "    <tr>\n",
       "      <th>4</th>\n",
       "      <td>5</td>\n",
       "      <td>0</td>\n",
       "      <td>3</td>\n",
       "      <td>Allen, Mr. William Henry</td>\n",
       "      <td>1</td>\n",
       "      <td>35.0</td>\n",
       "      <td>0</td>\n",
       "      <td>0</td>\n",
       "      <td>373450</td>\n",
       "      <td>8.0500</td>\n",
       "      <td>NaN</td>\n",
       "      <td>S</td>\n",
       "      <td>[0.0, 1.0, 0.0]</td>\n",
       "      <td>0.407926</td>\n",
       "      <td>-0.486337</td>\n",
       "      <td>1.0</td>\n",
       "      <td>Adult</td>\n",
       "      <td>0</td>\n",
       "      <td>0</td>\n",
       "    </tr>\n",
       "  </tbody>\n",
       "</table>\n",
       "</div>"
      ],
      "text/plain": [
       "   PassengerId  Survived  Pclass  \\\n",
       "0            1         0       3   \n",
       "1            2         1       1   \n",
       "2            3         1       3   \n",
       "3            4         1       1   \n",
       "4            5         0       3   \n",
       "\n",
       "                                                Name  Sex   Age  SibSp  Parch  \\\n",
       "0                            Braund, Mr. Owen Harris    1  22.0      1      0   \n",
       "1  Cumings, Mrs. John Bradley (Florence Briggs Th...    0  38.0      1      0   \n",
       "2                             Heikkinen, Miss. Laina    0  26.0      0      0   \n",
       "3       Futrelle, Mrs. Jacques Heath (Lily May Peel)    0  35.0      1      0   \n",
       "4                           Allen, Mr. William Henry    1  35.0      0      0   \n",
       "\n",
       "             Ticket     Fare Cabin Embarked      EmbarkedOHE  Age_StdSc  \\\n",
       "0         A/5 21171   7.2500   NaN        S  [0.0, 1.0, 0.0]  -0.592481   \n",
       "1          PC 17599  71.2833   C85        C  [0.0, 0.0, 0.0]   0.638789   \n",
       "2  STON/O2. 3101282   7.9250   NaN        S  [0.0, 1.0, 0.0]  -0.284663   \n",
       "3            113803  53.1000  C123        S  [0.0, 1.0, 0.0]   0.407926   \n",
       "4            373450   8.0500   NaN        S  [0.0, 1.0, 0.0]   0.407926   \n",
       "\n",
       "   Fare_StdSc  Pclass_Scale Age_Class  SibSp_Class  Parch_Class  \n",
       "0   -0.502445           1.0     Adult            1            0  \n",
       "1    0.786845           0.0     Adult            1            0  \n",
       "2   -0.488854           1.0     Adult            0            0  \n",
       "3    0.420730           0.0     Adult            1            0  \n",
       "4   -0.486337           1.0     Adult            0            0  "
      ]
     },
     "execution_count": 2,
     "metadata": {},
     "output_type": "execute_result"
    }
   ],
   "source": [
    "# Importing necessary libraries and loading data.\n",
    "import pandas as pd\n",
    "import numpy as np\n",
    "import seaborn as sns\n",
    "import matplotlib.pyplot as plt\n",
    "import math\n",
    "%matplotlib inline\n",
    "sns.set(color_codes=True)\n",
    "\n",
    "# Import processed and originial data frames\n",
    "from feature_processing_1 import df_train, df_train_org, df_test, df_test_org\n",
    "\n",
    "df_train.head()"
   ]
  },
  {
   "cell_type": "markdown",
   "metadata": {},
   "source": [
    "### Checking the dataframe for NaN, Duplicates\n",
    "- Preprocessing of the file in feature_processing_1\n",
    "- Processed data frames: df_train, df_test\n",
    "- Original data frames: df_train_org, df_test_org"
   ]
  },
  {
   "cell_type": "code",
   "execution_count": 20,
   "metadata": {
    "pycharm": {
     "name": "#%%\n"
    },
    "scrolled": true
   },
   "outputs": [
    {
     "name": "stdout",
     "output_type": "stream",
     "text": [
      "                Train     Test\n",
      "PassengerId     int64    int64\n",
      "Survived        int64      NaN\n",
      "Pclass          int64    int64\n",
      "Name           object   object\n",
      "Sex             int64    int64\n",
      "Age           float64  float64\n",
      "SibSp           int64    int64\n",
      "Parch           int64    int64\n",
      "Ticket         object   object\n",
      "Fare          float64  float64\n",
      "Cabin          object   object\n",
      "Embarked       object   object\n",
      "EmbarkedOHE    object   object\n",
      "Age_StdSc     float64  float64\n",
      "Fare_StdSc    float64  float64\n",
      "Pclass_Scale  float64  float64\n",
      "Age_Class      object   object\n",
      "SibSp_Class     int64    int64\n",
      "Parch_Class     int64    int64\n"
     ]
    }
   ],
   "source": [
    "# Checking the data types.\n",
    "df = pd.concat([df_train.dtypes, df_test.dtypes], axis=1)\n",
    "df.columns = [\"Train\", \"Test\"]\n",
    "print(df)"
   ]
  },
  {
   "cell_type": "code",
   "execution_count": 10,
   "metadata": {
    "pycharm": {
     "name": "#%%\n"
    }
   },
   "outputs": [
    {
     "name": "stdout",
     "output_type": "stream",
     "text": [
      "Train Data Dimension: (891, 19)\n",
      "Test Data Dimension: (418, 18)\n",
      "\n"
     ]
    }
   ],
   "source": [
    "# Checking the shape (dimensions).\n",
    "print(f\"Train Data Dimension: {df_train.shape}\")\n",
    "print(f\"Test Data Dimension: {df_test.shape}\\n\")\n",
    "# Check for duplicates necessary?"
   ]
  },
  {
   "cell_type": "code",
   "execution_count": 18,
   "metadata": {
    "scrolled": false
   },
   "outputs": [
    {
     "name": "stdout",
     "output_type": "stream",
     "text": [
      "              Train   Test\n",
      "PassengerId       0    0.0\n",
      "Survived          0    NaN\n",
      "Pclass            0    0.0\n",
      "Name              0    0.0\n",
      "Sex               0    0.0\n",
      "Age               0    0.0\n",
      "SibSp             0    0.0\n",
      "Parch             0    0.0\n",
      "Ticket            0    0.0\n",
      "Fare              0    0.0\n",
      "Cabin           687  327.0\n",
      "Embarked          0    0.0\n",
      "EmbarkedOHE       0    0.0\n",
      "Age_StdSc         0    0.0\n",
      "Fare_StdSc        0    0.0\n",
      "Pclass_Scale      0    0.0\n",
      "Age_Class         0    0.0\n",
      "SibSp_Class       0    0.0\n",
      "Parch_Class       0    0.0\n"
     ]
    }
   ],
   "source": [
    "# Validate that there are no more NaN in the train data.\n",
    "df = pd.concat([df_train.isnull().sum(), df_test.isnull().sum()], axis=1)\n",
    "df.columns = [\"Train\", \"Test\"]\n",
    "print(df)"
   ]
  },
  {
   "cell_type": "markdown",
   "metadata": {},
   "source": [
    "### Exploring distributions of the categorical variables (training and test data set)"
   ]
  },
  {
   "cell_type": "code",
   "execution_count": null,
   "metadata": {},
   "outputs": [],
   "source": [
    "# Histogram of survival.\n",
    "df_train[\"Survived\"].value_counts().plot(kind=\"bar\")\n",
    "plt.xlabel(\"1 = Survived\")\n",
    "df_train[\"Survived\"].value_counts(normalize=\"True\")\n",
    "plt.title(\"Train Data:\")\n",
    "plt.show()\n",
    "\n",
    "x_norm = df_train[\"Survived\"].value_counts(normalize=True).rename(\"Norm\")\n",
    "x_abs = df_train[\"Survived\"].value_counts().rename(\"Abs\")\n",
    "df = pd.concat([x_norm, x_abs], axis=1)\n",
    "df.loc[\"Total\"] = df.sum()\n",
    "df = round(df, 2)\n",
    "print(df)"
   ]
  },
  {
   "cell_type": "code",
   "execution_count": null,
   "metadata": {},
   "outputs": [],
   "source": [
    "# Define functions to compare distribution of categorical variables between\n",
    "# training and test data set\n",
    "def feature_vis_cat(df_train, df_test, var):\n",
    "    fig, axes = plt.subplots(nrows=1, ncols=2)\n",
    "    plt.subplots_adjust(wspace=0.2, hspace=0.5)\n",
    "    df_train[var].value_counts().plot(kind=\"bar\", ax=axes[0], title=\"Train\")\n",
    "    df_test[var].value_counts().plot(kind=\"bar\", ax=axes[1], title=\"Test\")\n",
    "    plt.show()\n",
    "\n",
    "def feature_dis_cat(df_train, df_test, var):\n",
    "    x_norm = df_train[var].value_counts(normalize=True).rename(\"Train Norm\")\n",
    "    x_abs = df_train[var].value_counts().rename(\"Train Abs\")\n",
    "    y_norm = df_test[var].value_counts(normalize=True).rename(\"Test Norm\")\n",
    "    y_abs = df_test[var].value_counts().rename(\"Test Abs\")\n",
    "    summary = pd.concat([x_norm, x_abs, y_norm, y_abs], axis=1)\n",
    "    summary.loc[\"Total\"] = summary.sum()\n",
    "    print(summary)\n",
    "    "
   ]
  },
  {
   "cell_type": "code",
   "execution_count": null,
   "metadata": {},
   "outputs": [],
   "source": [
    "# Sexes.\n",
    "feature_vis_cat(df_train, df_test, \"Sex\")\n",
    "feature_dis_cat(df_train, df_test, \"Sex\")"
   ]
  },
  {
   "cell_type": "code",
   "execution_count": null,
   "metadata": {},
   "outputs": [],
   "source": [
    "# Pclasses.\n",
    "feature_vis_cat(df_train, df_test, \"Pclass\")\n",
    "feature_dis_cat(df_train, df_test, \"Pclass\")"
   ]
  },
  {
   "cell_type": "code",
   "execution_count": null,
   "metadata": {},
   "outputs": [],
   "source": [
    "# Number of Siblings:\n",
    "feature_vis_cat(df_train, df_test, \"SibSp\")\n",
    "feature_dis_cat(df_train, df_test, \"SibSp\")"
   ]
  },
  {
   "cell_type": "code",
   "execution_count": null,
   "metadata": {},
   "outputs": [],
   "source": [
    "# Number of Parches:\n",
    "feature_vis_cat(df_train, df_test, \"Parch\")\n",
    "feature_dis_cat(df_train, df_test, \"Parch\")"
   ]
  },
  {
   "cell_type": "markdown",
   "metadata": {},
   "source": [
    "### Exploring distributions of the continuous variables (training and test data set)"
   ]
  },
  {
   "cell_type": "code",
   "execution_count": null,
   "metadata": {},
   "outputs": [],
   "source": [
    "def feature_vis_cont(df_train, df_test, var, log=False):\n",
    "    fig, axes = plt.subplots(nrows=1, ncols=2)\n",
    "    plt.subplots_adjust(wspace=0.2, hspace=0.5)\n",
    "    if log is False:\n",
    "        df_train[var].hist(ax=axes[0], bins=20)\n",
    "        df_test[var].hist(ax=axes[1], bins=20)\n",
    "        limit = max(axes[0].get_ylim(), axes[1].get_ylim())[1]\n",
    "        limit *= 1.1\n",
    "        axes[0].set_ylim([0, int(limit)])\n",
    "        axes[1].set_ylim([0, int(limit)])\n",
    "    else:\n",
    "        df_train[var].hist(ax=axes[0], bins=20, log=True)\n",
    "        df_test[var].hist(ax=axes[1], bins=20, log=True)\n",
    "    axes[0].set_title(\"Train\")\n",
    "    axes[1].set_title(\"Test\")\n",
    "    plt.show()\n",
    "    \n",
    "def feature_dis_cont(df_train, df_test, var):\n",
    "    mean_train = round(np.mean(df_train[var].dropna().tolist()),2)\n",
    "    median_train = round(np.median(df_train[var].dropna().tolist()),2)\n",
    "    stdev_train = round(np.std(df_train[var].dropna().tolist()),2)\n",
    "    mean_test = round(np.mean(df_test[var].dropna().tolist()),2)\n",
    "    median_test = round(np.median(df_test[var].dropna().tolist()),2)\n",
    "    stdev_test = round(np.std(df_train[var].dropna().tolist()),2)\n",
    "    summary = pd.DataFrame({\n",
    "        \"Train\": [mean_train, median_train, stdev_train],\n",
    "        \"Test\": [mean_test, median_test, stdev_test],\n",
    "    }, index=[\"Mean\", \"Median\", \"Stdev\"])\n",
    "    print(summary)"
   ]
  },
  {
   "cell_type": "code",
   "execution_count": null,
   "metadata": {},
   "outputs": [],
   "source": [
    "# Ages with NaN replaced by mean (see above):\n",
    "feature_vis_cont(df_train, df_test, \"Age\")\n",
    "feature_dis_cont(df_train, df_test, \"Age\")"
   ]
  },
  {
   "cell_type": "code",
   "execution_count": null,
   "metadata": {},
   "outputs": [],
   "source": [
    "# Ages with NaN omitted:\n",
    "feature_vis_cont(df_train_org, df_test_org, \"Age\")\n",
    "feature_dis_cont(df_train_org, df_test_org, \"Age\")"
   ]
  },
  {
   "cell_type": "code",
   "execution_count": null,
   "metadata": {},
   "outputs": [],
   "source": [
    "# Histogram of the fares.\n",
    "feature_vis_cont(df_train, df_test, \"Fare\", log=True)\n",
    "feature_dis_cont(df_train, df_test, \"Fare\")"
   ]
  },
  {
   "cell_type": "markdown",
   "metadata": {},
   "source": [
    "### Exploring association of the categorical variables with survival"
   ]
  },
  {
   "cell_type": "code",
   "execution_count": null,
   "metadata": {},
   "outputs": [],
   "source": [
    "# Select all persons that survived:\n",
    "df_train_surv = df_train[df_train[\"Survived\"] == 1]\n",
    "df_train_surv.head()"
   ]
  },
  {
   "cell_type": "code",
   "execution_count": null,
   "metadata": {},
   "outputs": [],
   "source": [
    "# Define Visualization Functions:\n",
    "def cat_vis(df, df_surv, var): \n",
    "    fig, axes = plt.subplots(nrows=1, ncols=2)\n",
    "    plt.subplots_adjust(wspace=0.2, hspace=0.5)\n",
    "    df[var].value_counts().plot(kind=\"bar\", ax=axes[0], title=\"All\")\n",
    "    df_surv[var].value_counts().plot(kind=\"bar\", ax=axes[1], title=\"Survived\")\n",
    "    y_max = df[var].value_counts().max()\n",
    "    y_max *= 1.1                            \n",
    "    axes[0].set_ylim([0, y_max])\n",
    "    axes[1].set_ylim([0, y_max])\n",
    "    plt.show()\n",
    "\n",
    "def cat_dist(df, df_surv, var, legend=None):\n",
    "    all_norm = df[var].value_counts(normalize=True).rename(\"All Norm\")\n",
    "    all_abs = df[var].value_counts().rename(\"All Abs\")\n",
    "    expected = df[var].value_counts().rename(\"Expected\")*0.383838\n",
    "    surv_norm = df_surv[var].value_counts(normalize=True).rename(\"Surv Norm\")\n",
    "    surv_abs = df_surv[var].value_counts().rename(\"Surv Abs\")\n",
    "    summary = pd.concat([all_abs, expected, surv_abs, all_norm, surv_norm], axis=1)\n",
    "    summary[[\"All Norm\", \"Surv Norm\"]]*100\n",
    "    summary[\"Norm Ratio\"] = summary.apply(lambda row: math.log(row[4]/row[3]), axis=1)\n",
    "    summary[\"Ex Ratio\"] = summary.apply(lambda row: math.log(row[2]/row[1]), axis=1)\n",
    "    summary.loc[\"Total\"] = summary.sum()\n",
    "    summary = round(summary, 2)\n",
    "    print(summary)"
   ]
  },
  {
   "cell_type": "code",
   "execution_count": null,
   "metadata": {
    "scrolled": false
   },
   "outputs": [],
   "source": [
    "# Sex of the deceased\n",
    "cat_vis(df_train, df_train_surv, \"Sex\")\n",
    "cat_dist(df_train, df_train_surv, \"Sex\")"
   ]
  },
  {
   "cell_type": "code",
   "execution_count": null,
   "metadata": {},
   "outputs": [],
   "source": [
    "# Check classes of deceased.\n",
    "cat_vis(df_train, df_train_surv, \"Pclass\")\n",
    "cat_dist(df_train, df_train_surv, \"Pclass\")"
   ]
  },
  {
   "cell_type": "code",
   "execution_count": null,
   "metadata": {},
   "outputs": [],
   "source": [
    "# Check Number of siblings of deceased.\n",
    "cat_vis(df_train, df_train_surv, \"SibSp_Class\")\n",
    "cat_dist(df_train, df_train_surv, \"SibSp_Class\")"
   ]
  },
  {
   "cell_type": "code",
   "execution_count": null,
   "metadata": {},
   "outputs": [],
   "source": [
    "# Check Number of Parches of deceased.\n",
    "cat_vis(df_train, df_train_surv, \"Parch_Class\")\n",
    "cat_dist(df_train, df_train_surv, \"Parch_Class\")"
   ]
  },
  {
   "cell_type": "code",
   "execution_count": null,
   "metadata": {},
   "outputs": [],
   "source": [
    "# Check Embarked\n",
    "cat_vis(df_train, df_train_surv, \"Embarked\")\n",
    "cat_dist(df_train, df_train_surv, \"Embarked\")"
   ]
  },
  {
   "cell_type": "code",
   "execution_count": null,
   "metadata": {},
   "outputs": [],
   "source": [
    "# Compare Age distribution between survival\n",
    "def boxplots(df, df_surv, var):\n",
    "    fig, axes = plt.subplots(nrows=1, ncols=2)\n",
    "    plt.subplots_adjust(wspace=0.2, hspace=0.5)\n",
    "    df[[var]].boxplot(ax=axes[0])\n",
    "    df_surv[[var]].boxplot(ax=axes[1])\n",
    "    y_max = df[[var]].max()\n",
    "    y_max *= 1.1\n",
    "    axes[0].set_title(\"All\")\n",
    "    axes[1].set_title(\"Surv\")\n",
    "    axes[0].set_ylim([0, int(y_max)])\n",
    "    axes[1].set_ylim([0, int(y_max)])\n",
    "    plt.title(\"\")\n",
    "    plt.show()\n",
    "    \n",
    "def histograms(df, df_surv, var):\n",
    "    fig, axes = plt.subplots(nrows=1, ncols=2)\n",
    "    plt.subplots_adjust(wspace=0.2, hspace=0.5)\n",
    "    df[var].hist(ax=axes[0], bins=20)\n",
    "    df_surv[var].hist(ax=axes[1], bins=20)\n",
    "    axes[0].set_title(\"All\")\n",
    "    axes[1].set_title(\"Surv\")\n",
    "    limit = max(axes[0].get_ylim(), axes[1].get_ylim())[1]\n",
    "    limit *= 1.1\n",
    "    axes[0].set_ylim([0, int(limit)])\n",
    "    axes[1].set_ylim([0, int(limit)])\n",
    "    plt.show()\n",
    "    \n",
    "\n",
    "def distributions(df, df_surv, var):\n",
    "    summary = pd.DataFrame({\n",
    "        \"All\": [np.mean(df[var]), np.median(df[var])],\n",
    "        \"Surv\": [np.mean(df_surv[var]), np.median(df_surv[var])],\n",
    "    }, index=[\"Mean\", \"Median\"])\n",
    "    summary = round(summary, 2)\n",
    "    print(summary)"
   ]
  },
  {
   "cell_type": "code",
   "execution_count": null,
   "metadata": {},
   "outputs": [],
   "source": [
    "# Age Comparison with NaN filled with mean\n",
    "boxplots(df_train, df_train_surv, \"Age\")\n",
    "histograms(df_train, df_train_surv, \"Age\")\n",
    "distributions(df_train, df_train_surv, \"Age\")"
   ]
  },
  {
   "cell_type": "code",
   "execution_count": null,
   "metadata": {},
   "outputs": [],
   "source": [
    "# Age Comparison with NaNs omitted\n",
    "df_train_org = df_train_org.dropna(subset=[\"Age\"])\n",
    "surv = df_train_org[df_train_org[\"Survived\"] == 1]\n",
    "boxplots(df_train_org, surv, \"Age\")\n",
    "histograms(df_train_org, surv, \"Age\")\n",
    "distributions(df_train_org, surv, \"Age\")"
   ]
  },
  {
   "cell_type": "code",
   "execution_count": null,
   "metadata": {},
   "outputs": [],
   "source": [
    "# Check Age Classes (see engineering in feature_processing.py)\n",
    "cat_vis(df_train, df_train_surv, \"Age_Class\")\n",
    "cat_dist(df_train, df_train_surv, \"Age_Class\")"
   ]
  },
  {
   "cell_type": "code",
   "execution_count": null,
   "metadata": {},
   "outputs": [],
   "source": [
    "# Fares Comparison\n",
    "boxplots(df_train, df_train_surv, \"Fare\")\n",
    "histograms(df_train, df_train_surv, \"Fare\")\n",
    "distributions(df_train, df_train_surv, \"Fare\")"
   ]
  }
 ],
 "metadata": {
  "kernelspec": {
   "display_name": "Python 3",
   "language": "python",
   "name": "python3"
  },
  "language_info": {
   "codemirror_mode": {
    "name": "ipython",
    "version": 3
   },
   "file_extension": ".py",
   "mimetype": "text/x-python",
   "name": "python",
   "nbconvert_exporter": "python",
   "pygments_lexer": "ipython3",
   "version": "3.8.5"
  }
 },
 "nbformat": 4,
 "nbformat_minor": 1
}